{
 "cells": [
  {
   "cell_type": "code",
   "execution_count": 2,
   "metadata": {},
   "outputs": [
    {
     "name": "stderr",
     "output_type": "stream",
     "text": [
      "c:\\Users\\dell\\anaconda3\\envs\\tf115\\lib\\site-packages\\tqdm\\auto.py:21: TqdmWarning: IProgress not found. Please update jupyter and ipywidgets. See https://ipywidgets.readthedocs.io/en/stable/user_install.html\n",
      "  from .autonotebook import tqdm as notebook_tqdm\n"
     ]
    }
   ],
   "source": [
    "import gymnasium as gym\n",
    "import numpy as np\n",
    "from stable_baselines3 import DDPG\n",
    "from stable_baselines3.common.env_util import DummyVecEnv\n",
    "import torch\n",
    "import csv\n",
    "\n",
    "# Check if a GPU is available and set the device accordingly\n",
    "device = torch.device(\"cuda\" if torch.cuda.is_available() else \"cpu\")\n"
   ]
  },
  {
   "cell_type": "markdown",
   "metadata": {},
   "source": [
    "# 1. Training Pendulum model with DDPG"
   ]
  },
  {
   "cell_type": "code",
   "execution_count": 3,
   "metadata": {},
   "outputs": [],
   "source": [
    "# Create the Pendulum-v1 environment\n",
    "env = gym.make('Pendulum-v1')\n",
    "\n",
    "# Wrap the environment to support vectorized environments (optional but recommended for stability)\n",
    "env = DummyVecEnv([lambda: env])\n",
    "\n",
    "# Initialize the DDPG agent with GPU support\n",
    "model = DDPG('MlpPolicy', env, device=device)"
   ]
  },
  {
   "cell_type": "code",
   "execution_count": 19,
   "metadata": {},
   "outputs": [],
   "source": [
    "\n",
    "# Train the agent for 10000 episodes\n",
    "model.learn(total_timesteps=10000)\n",
    "\n",
    "model.save(\"ddpg_pendulum\")"
   ]
  },
  {
   "cell_type": "markdown",
   "metadata": {},
   "source": [
    "# 2. Collect trajectory data\n",
    "[state, action, next_state]"
   ]
  },
  {
   "cell_type": "code",
   "execution_count": 4,
   "metadata": {},
   "outputs": [],
   "source": [
    "\n",
    "def save_data_to_csv(data, filename):\n",
    "    with open(filename, 'w', newline='') as csvfile:\n",
    "        csvwriter = csv.writer(csvfile)\n",
    "\n",
    "        # Write header\n",
    "        csvwriter.writerow(['State', 'Action', 'NextState'])\n",
    "        for lines in data:\n",
    "            csvwriter.writerow(lines)\n"
   ]
  },
  {
   "cell_type": "code",
   "execution_count": 22,
   "metadata": {},
   "outputs": [],
   "source": [
    "model = DDPG.load(\"ddpg_pendulum_10k\")\n",
    "# List to store state-action-next_state transitions\n",
    "state_action_data = []\n",
    "\n",
    "count = 0\n",
    "for _ in range(5000):\n",
    "    # random sample 100 steps\n",
    "    obs = env.reset()\n",
    "    count += 1\n",
    "    action = env.action_space.sample()  # agent policy that uses the observation and info\n",
    "    next_obs, reward, terminated, truncated = env.step([action])\n",
    "    state_action_data.append((obs[0], action, next_obs[0]))\n",
    "    obs = next_obs\n",
    "\n",
    "    if count%10 == 0:\n",
    "        obs = env.reset()\n",
    "\n",
    "for episode in range(50):    \n",
    "    # record 1 trajectory for around 90 steps\n",
    "    obs = env.reset()\n",
    "    done = False\n",
    "    count = 10\n",
    "    while not done:\n",
    "        action, _ = model.predict(obs)\n",
    "        next_obs, reward, terminated, truncated = env.step(action)\n",
    "        state_action_data.append((obs[0], action[0], next_obs[0]))\n",
    "        obs = next_obs\n",
    "        if 1 - abs(obs[0][0]) < 0.001 and abs(action[0]) < 0.6:\n",
    "            count -=1\n",
    "            if count <0:\n",
    "                done = True\n",
    "\n",
    "\n",
    "# Save the state-action-next_state data to a CSV file\n",
    "save_data_to_csv(state_action_data, 's_a_random.csv')\n",
    "\n",
    "# Close the environment\n",
    "env.close()\n"
   ]
  }
 ],
 "metadata": {
  "kernelspec": {
   "display_name": "tf115",
   "language": "python",
   "name": "python3"
  },
  "language_info": {
   "codemirror_mode": {
    "name": "ipython",
    "version": 3
   },
   "file_extension": ".py",
   "mimetype": "text/x-python",
   "name": "python",
   "nbconvert_exporter": "python",
   "pygments_lexer": "ipython3",
   "version": "3.7.16"
  },
  "orig_nbformat": 4
 },
 "nbformat": 4,
 "nbformat_minor": 2
}
